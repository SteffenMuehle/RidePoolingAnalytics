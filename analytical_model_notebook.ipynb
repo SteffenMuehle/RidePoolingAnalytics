{
 "cells": [
  {
   "cell_type": "markdown",
   "metadata": {},
   "source": [
    "### packages"
   ]
  },
  {
   "cell_type": "code",
   "execution_count": null,
   "metadata": {},
   "outputs": [],
   "source": [
    "# all these packages ship with Julia directly and do not require installation\n",
    "using LinearAlgebra, Plots, Statistics"
   ]
  },
  {
   "cell_type": "markdown",
   "metadata": {},
   "source": [
    "### plot settings as chosen in paper. feel free to ignore."
   ]
  },
  {
   "cell_type": "code",
   "execution_count": null,
   "metadata": {},
   "outputs": [],
   "source": [
    "include(\"./plot_settings.jl\")"
   ]
  },
  {
   "cell_type": "markdown",
   "metadata": {},
   "source": [
    "## functions"
   ]
  },
  {
   "cell_type": "markdown",
   "metadata": {},
   "source": [
    "### functions for generic framework"
   ]
  },
  {
   "cell_type": "code",
   "execution_count": null,
   "metadata": {},
   "outputs": [],
   "source": [
    "function Δp(p::Vector{Float64},R::Vector{Float64}) # <--- RHS of Master equation\n",
    "    flow=zeros(length(p))\n",
    "    for k in 2:length(p)\n",
    "        flow_to_right=p[k-1]*R[k-1]\n",
    "        flow[k-1]-= flow_to_right   # <---- the probability 'flow_to_right' flows from k-1\n",
    "        flow[k]  += flow_to_right   # <---- to k\n",
    "    end\n",
    "    return flow\n",
    "end\n",
    "\n",
    "function trial!(p::Vector{Float64},R::Vector{Float64}) # <--- update p(k|M) by adding RHS\n",
    "    p.+=Δp(p,R)\n",
    "end\n",
    "\n",
    "function p_M_T(M,x)  #<--- Poisson probability. Doing a few case distinctions here for numerical reasons (factorials become really big really fast)\n",
    "    x>30 ? (return 1/(sqrt(2*pi*x))*exp(- (M-x)^2/(2*x) )) : nothing   # <--- Gaussian for large x\n",
    "\n",
    "    if M<13\n",
    "        return exp(-x) * x^M / factorial(M)   # <---- Poisson\n",
    "    elseif M<69\n",
    "        stirling_factor= 1 + 1/(12*M) + 1/(288*M^2) - 139/(51840*M^3) \n",
    "        return exp(M-x)*(x/M)^M/(sqrt(2*pi*M)*stirling_factor)  # <--- Poisson with Stirling\n",
    "    else\n",
    "        return 0.0        # <--- this is where, for x=29, the correct value is <1e-13\n",
    "    end\n",
    "end\n",
    "\n",
    "function pdf_k(x,δmax)  #<--- p(k) with 'M' already integrated out.\n",
    "\n",
    "    ΔM=1   # <------------------------ increments / spacing\n",
    "    Δk=1\n",
    "\n",
    "    M_min=0   # <--------------------- minimum values for variables\n",
    "    k_min=0\n",
    "\n",
    "    M_max=max(100, Integer( 10*ceil(x) ) ) # <---- maximum values for variables\n",
    "    k_max=100\n",
    "\n",
    "    vM=M_min:ΔM:M_max  # <------------ arrays with all possible values\n",
    "    vk=k_min:Δk:k_max\n",
    "\n",
    "    #trajectory lengths\n",
    "    d=deltas(δmax,length(vk))\n",
    "    dmax=d[1]*δmax\n",
    "\n",
    "    #generate insertion probabilities\n",
    "    R=zeros(length(vk)-1)\n",
    "    for k in 1:length(vk)-1\n",
    "        R[k]=p_insert(d[k],dmax)\n",
    "    end\n",
    "\n",
    "    #prob. density for M\n",
    "    pdf_M=Float64.([ p_M_T(M,x)  for M in vM])    # <---- Poisson prob. for M other reqs to spawn during a req of given duration 'T'\n",
    "\n",
    "    #prob. density for k\n",
    "    pdf_k=zeros(length(vk))\n",
    "    p_k_M=zeros(length(vk))\n",
    "    p_k_M[1]=1.0           # <---- after 0 trials (M=0), k=0\n",
    "\n",
    "    pdf_k+=p_k_M*pdf_M[1]*ΔM\n",
    "    for M in vM[2:end]   # <---- this loop goes through this sum: p(k)=∑p(k|M)p(M)\n",
    "        pdf_k+=p_k_M*pdf_M[M+1]*ΔM\n",
    "        trial!(p_k_M,R)\n",
    "    end\n",
    "\n",
    "    return pdf_k\n",
    "end\n",
    "\n",
    "function η(x,δmax,χ)  #<--- efficiency value\n",
    "\n",
    "    pk=pdf_k(x,δmax)\n",
    "    vk=0:length(pk)-1\n",
    "\n",
    "    b=[1+χ*k for k in vk]\n",
    "    d=deltas(δmax,length(vk))\n",
    "    \n",
    "    return dot(pk,b./d)\n",
    "end\n",
    "\n",
    "error(x,N,δmax,percentage,χ)=-1+x/(N*η(x,δmax,χ)/percentage)  #<--- supply-demand balance is fulfilled when this is zero\n",
    "\n",
    "function find_x(N,percentage,δmax,χ) #<--- secante method for finding root of 'error' function\n",
    "    x1,v1=(N^1.20,error(N^1.20,N,δmax,percentage,χ)) #<--- initial guess\n",
    "    x2,v2=(N^1.15,error(N^1.15,N,δmax,percentage,χ))\n",
    "    x3,v3=(0.0,0.0)\n",
    "\n",
    "    while true   # trying to solve f = N*η(f) / 0.8 via secante method\n",
    "        x3=x2-v2*(x2-x1)/(v2-v1)\n",
    "        v3=error(x3,N,δmax,percentage,χ)\n",
    "        abs(v3)<1e-3 ? (return x3) : nothing\n",
    "        x1=x2\n",
    "        v1=v2\n",
    "        x2=x3\n",
    "        v2=v3\n",
    "    end\n",
    "end"
   ]
  },
  {
   "cell_type": "markdown",
   "metadata": {},
   "source": [
    "### functions specific to ride pooling on a Euclidian square"
   ]
  },
  {
   "cell_type": "code",
   "execution_count": null,
   "metadata": {},
   "outputs": [],
   "source": [
    "# iterative rule for d_k\n",
    "deltas(deltamax,kmax)=[deltamax-(deltamax-1)*((deltamax-δbar(deltamax))/(deltamax-1))^k for k in 0:kmax-1]\n",
    "\n",
    "#pickup probability = area of ellipse around flattened route\n",
    "p_pickup(d,dmax)=(pi*dmax*sqrt(dmax^2-d^2)/8) / (1/0.5214054331)^2\n",
    "\n",
    "#R = p_insert = product of pickup and dropoff probs.\n",
    "p_insert(d,dmax)=p_pickup(d,dmax)*p_pickup(d,dmax)\n",
    "\n",
    "#average delta value inside an ellipse of x=δmax\n",
    "δbar(x)= 1+(2*x/3 + 1/(3*x) - 1)\n",
    "\n",
    "χ=0.5;"
   ]
  },
  {
   "cell_type": "markdown",
   "metadata": {},
   "source": [
    "## plots"
   ]
  },
  {
   "cell_type": "code",
   "execution_count": null,
   "metadata": {},
   "outputs": [],
   "source": [
    "deltamax=2.0"
   ]
  },
  {
   "cell_type": "markdown",
   "metadata": {},
   "source": [
    "### p(k|M)"
   ]
  },
  {
   "cell_type": "code",
   "execution_count": null,
   "metadata": {},
   "outputs": [],
   "source": [
    "xticks=[1,10,100,1000,10000]\n",
    "yticks=[1,10,100,1000,10000,10^5]\n",
    "xmin,xmax=-0.1,8.1\n",
    "ymin,ymax=0,1\n",
    "\n",
    "p=plot(\n",
    "    xlim=(xmin,xmax),\n",
    "    ylim=(ymin,ymax),\n",
    "    xticks=0:10,\n",
    "    yticks=0:0.2:1.0,\n",
    "    xlabel=\"k\",\n",
    "    ylabel=\"p(k|M)\")\n",
    "\n",
    "for (i,x) in enumerate([1,4,16,64,256])\n",
    "    pkm=pdf_k(x,deltamax)\n",
    "    plot!(0:100,pkm,label=\"M=$(x)\", color=i)\n",
    "    plot!(0:100,pkm,label=\"\",fill = (0, 0.3), color=i)\n",
    "    vline!([dot(0:100,pkm)],label=\"\",color=i,line=(1.5,:dash))\n",
    "end\n",
    "annotate!((0.12300767274809593,0.92),text(\"(a)\", myfont, :black, pointlg))"
   ]
  },
  {
   "cell_type": "code",
   "execution_count": null,
   "metadata": {},
   "outputs": [],
   "source": [
    "#savefig(\"../figures/model_pkm.pdf\")"
   ]
  },
  {
   "cell_type": "markdown",
   "metadata": {},
   "source": [
    "### $\\eta(x)$"
   ]
  },
  {
   "cell_type": "code",
   "execution_count": null,
   "metadata": {},
   "outputs": [],
   "source": [
    "#find eta(x)\n",
    "\n",
    "Δk=1   # <------------------------ increments / spacing\n",
    "k_min=0\n",
    "k_max=100\n",
    "vk=k_min:Δk:k_max\n",
    "xs=exp.(range(log(1),log(100000),length=30))\n",
    "etas=[η(x,deltamax,χ) for x in xs];"
   ]
  },
  {
   "cell_type": "code",
   "execution_count": null,
   "metadata": {},
   "outputs": [],
   "source": [
    "#plot eta(x)\n",
    "\n",
    "xticks=[1,10,100,1000,10000,100000]\n",
    "xmin,xmax=1.0/1.3,1.3*10^5\n",
    "ymin,ymax=0,4.1\n",
    "\n",
    "plot(xs,etas,xticks=xticks,xaxis=:log,\n",
    "xlab=\"demand x\",ylab=\"efficiency $(Char(951))\",\n",
    "legend=:none,grid=true,\n",
    "xlim=(xmin,xmax),\n",
    "ylim=(ymin,ymax))\n",
    "\n",
    "xperc,yperc=0.08,0.92\n",
    "xperc=(exp(log(xmin)+xperc*(log(xmax)-log(xmin))) -xmin)/(xmax-xmin)\n",
    "annotate!((xperc,yperc),text(\"(b)\", myfont, :black, pointlg))"
   ]
  },
  {
   "cell_type": "code",
   "execution_count": null,
   "metadata": {},
   "outputs": [],
   "source": [
    "#savefig(\"../figures/model_eta.pdf\")"
   ]
  },
  {
   "cell_type": "markdown",
   "metadata": {},
   "source": [
    "### x(N)"
   ]
  },
  {
   "cell_type": "code",
   "execution_count": null,
   "metadata": {},
   "outputs": [],
   "source": [
    "#find x(N)\n",
    "\n",
    "Ns=exp.(range(log(1.01),log(10000),length=30))  #<--- choose fleet sizes N\n",
    "\n",
    "served_percentage=0.8\n",
    "\n",
    "Xs=zeros(length(Ns))\n",
    "for (index,value) in enumerate(Ns)  #<--- find corresponding x values for each N\n",
    "    Xs[index]=find_x(value,served_percentage,deltamax,χ)\n",
    "end"
   ]
  },
  {
   "cell_type": "code",
   "execution_count": null,
   "metadata": {},
   "outputs": [],
   "source": [
    "#plot x(N)\n",
    "\n",
    "xticks=[1,10,100,1000,10000]\n",
    "yticks=[1,10,100,1000,10000,10^5]\n",
    "xmin,xmax=1/1.3,1.3*10^4\n",
    "ymin,ymax=1/1.3,1.3*10^5\n",
    "\n",
    "plot(Ns,Xs,\n",
    "    xticks=xticks,\n",
    "    yticks=yticks,\n",
    "    xlim=(xmin,xmax),\n",
    "    ylim=(ymin,ymax),\n",
    "    xaxis=:log,\n",
    "    yaxis=:log,\n",
    "    xlab=\"buses N\",ylab=\"demand  x\",\n",
    "    label=\"model\",grid=true,\n",
    "    legend=:bottomright)\n",
    "\n",
    "plot!([80,120*80],[110,120^1.15*110],label=\"slope 1.15\",markersize=0,linewidth=2.5*upscale,color=:black)\n",
    "\n",
    "xperc,yperc=0.08,0.92\n",
    "xperc=(exp(log(xmin)+xperc*(log(xmax)-log(xmin))) -xmin)/(xmax-xmin)\n",
    "yperc=(exp(log(ymin)+yperc*(log(ymax)-log(ymin))) -ymin)/(ymax-ymin)\n",
    "annotate!((xperc,yperc),text(\"(c)\", myfont, :black, pointlg))"
   ]
  },
  {
   "cell_type": "code",
   "execution_count": null,
   "metadata": {},
   "outputs": [],
   "source": [
    "#savefig(\"../figures/model_fleetsize.pdf\")"
   ]
  }
 ],
 "metadata": {
  "kernelspec": {
   "display_name": "Julia 1.6.2",
   "language": "julia",
   "name": "julia-1.6"
  },
  "language_info": {
   "file_extension": ".jl",
   "mimetype": "application/julia",
   "name": "julia",
   "version": "1.6.2"
  },
  "orig_nbformat": 4
 },
 "nbformat": 4,
 "nbformat_minor": 2
}
